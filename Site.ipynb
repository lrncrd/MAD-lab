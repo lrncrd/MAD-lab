{
 "cells": [
  {
   "cell_type": "markdown",
   "metadata": {},
   "source": [
    "## Importing libreries"
   ]
  },
  {
   "cell_type": "code",
   "execution_count": 1,
   "metadata": {},
   "outputs": [],
   "source": [
    "import pandas as pd\n",
    "import geopandas as gpd\n",
    "import seaborn as sns\n",
    "import numpy as np"
   ]
  },
  {
   "cell_type": "code",
   "execution_count": 10,
   "metadata": {},
   "outputs": [],
   "source": [
    "df = gpd.read_file(r\"data\\site_try.shp\")"
   ]
  },
  {
   "cell_type": "code",
   "execution_count": 11,
   "metadata": {},
   "outputs": [
    {
     "data": {
      "text/html": [
       "<div>\n",
       "<style scoped>\n",
       "    .dataframe tbody tr th:only-of-type {\n",
       "        vertical-align: middle;\n",
       "    }\n",
       "\n",
       "    .dataframe tbody tr th {\n",
       "        vertical-align: top;\n",
       "    }\n",
       "\n",
       "    .dataframe thead th {\n",
       "        text-align: right;\n",
       "    }\n",
       "</style>\n",
       "<table border=\"1\" class=\"dataframe\">\n",
       "  <thead>\n",
       "    <tr style=\"text-align: right;\">\n",
       "      <th></th>\n",
       "      <th>id</th>\n",
       "      <th>id_HH</th>\n",
       "      <th>dimension</th>\n",
       "      <th>hyd_ft</th>\n",
       "      <th>hh_min</th>\n",
       "      <th>hh_max</th>\n",
       "      <th>site_node</th>\n",
       "      <th>geometry</th>\n",
       "    </tr>\n",
       "  </thead>\n",
       "  <tbody>\n",
       "    <tr>\n",
       "      <th>0</th>\n",
       "      <td>1</td>\n",
       "      <td>5</td>\n",
       "      <td>5.0</td>\n",
       "      <td>3</td>\n",
       "      <td>1</td>\n",
       "      <td>10</td>\n",
       "      <td>1</td>\n",
       "      <td>POINT (130507.941 4977580.558)</td>\n",
       "    </tr>\n",
       "    <tr>\n",
       "      <th>1</th>\n",
       "      <td>2</td>\n",
       "      <td>5</td>\n",
       "      <td>7.0</td>\n",
       "      <td>7</td>\n",
       "      <td>8</td>\n",
       "      <td>4</td>\n",
       "      <td>1</td>\n",
       "      <td>POINT (204677.659 4958309.387)</td>\n",
       "    </tr>\n",
       "    <tr>\n",
       "      <th>2</th>\n",
       "      <td>3</td>\n",
       "      <td>7</td>\n",
       "      <td>3.0</td>\n",
       "      <td>7</td>\n",
       "      <td>2</td>\n",
       "      <td>4</td>\n",
       "      <td>1</td>\n",
       "      <td>POINT (192693.906 4991507.623)</td>\n",
       "    </tr>\n",
       "    <tr>\n",
       "      <th>3</th>\n",
       "      <td>7</td>\n",
       "      <td>6</td>\n",
       "      <td>4.0</td>\n",
       "      <td>2</td>\n",
       "      <td>4</td>\n",
       "      <td>56</td>\n",
       "      <td>44</td>\n",
       "      <td>POINT (140386.441 4997337.558)</td>\n",
       "    </tr>\n",
       "  </tbody>\n",
       "</table>\n",
       "</div>"
      ],
      "text/plain": [
       "   id  id_HH  dimension  hyd_ft  hh_min  hh_max  site_node  \\\n",
       "0   1      5        5.0       3       1      10          1   \n",
       "1   2      5        7.0       7       8       4          1   \n",
       "2   3      7        3.0       7       2       4          1   \n",
       "3   7      6        4.0       2       4      56         44   \n",
       "\n",
       "                         geometry  \n",
       "0  POINT (130507.941 4977580.558)  \n",
       "1  POINT (204677.659 4958309.387)  \n",
       "2  POINT (192693.906 4991507.623)  \n",
       "3  POINT (140386.441 4997337.558)  "
      ]
     },
     "execution_count": 11,
     "metadata": {},
     "output_type": "execute_result"
    }
   ],
   "source": [
    "df"
   ]
  },
  {
   "cell_type": "code",
   "execution_count": 65,
   "metadata": {},
   "outputs": [],
   "source": [
    "class Site:\n",
    "    site_all = []\n",
    "    \n",
    "    def __init__(self, id, id_HH, dimension, hyd_ft, hh_min, hh_max, site_node, geometry):\n",
    "        self.id = id\n",
    "        self.id_HH = id_HH\n",
    "        self.dimension = dimension\n",
    "        self.hyd_ft = hyd_ft\n",
    "        self.hh_min = hh_min\n",
    "        self.hh_max = hh_max\n",
    "        self.site_node = site_node\n",
    "        self.geometry = geometry.x, geometry.y\n",
    "\n",
    "        Site.site_all.append(self)\n",
    "\n",
    "    @classmethod\n",
    "    def instantiate_from_list(cls, path):\n",
    "        geodf = gpd.read_file(path)\n",
    "        for _, row in geodf.iterrows():\n",
    "            Site(\n",
    "                row.id,\n",
    "                row.id_HH,\n",
    "                row.dimension,\n",
    "                row.hyd_ft,\n",
    "                row.hh_min,\n",
    "                row.hh_max,\n",
    "                row.site_node,\n",
    "                row.geometry\n",
    "            )\n",
    "    \n",
    "    def return_df(self):\n",
    "        information = []\n",
    "        for n, site in enumerate(Site.site_all):\n",
    "            information.append((Site.site_all[n].id,\n",
    "                                Site.site_all[n].dimension,\n",
    "                                Site.site_all[n].hyd_ft))\n",
    "        df = pd.DataFrame(information, columns=[\"id\", \"dimension\", \"hyd_ft\"])\n",
    "        return df\n",
    "\n",
    "    def plot():\n",
    "        coordinates = []\n",
    "        for n, site in enumerate(Site.site_all):\n",
    "            coordinates.append(Site.site_all[n].geometry)\n",
    "        coord_array = np.array(coordinates)\n",
    "        sns.scatterplot(x = coord_array[:,0], y = coord_array[:,1])\n",
    "\n",
    "\n",
    "    def __repr__(self):\n",
    "        return f\"{self.__class__.__name__}('{self.id}', {self.id_HH}, {self.dimension},{self.geometry})\"\n",
    "\n",
    "    def __getitem__(idx):\n",
    "        return Site.site_all[idx]\n",
    "\n",
    "\n",
    "    \n"
   ]
  },
  {
   "cell_type": "code",
   "execution_count": 66,
   "metadata": {},
   "outputs": [],
   "source": [
    "Site.instantiate_from_list(r\"data\\site_try.shp\")"
   ]
  },
  {
   "cell_type": "code",
   "execution_count": 71,
   "metadata": {},
   "outputs": [
    {
     "data": {
      "text/plain": [
       "4"
      ]
     },
     "execution_count": 71,
     "metadata": {},
     "output_type": "execute_result"
    }
   ],
   "source": [
    "len(Site.site_all)"
   ]
  },
  {
   "cell_type": "code",
   "execution_count": 72,
   "metadata": {},
   "outputs": [
    {
     "data": {
      "image/png": "[encoded data removed]",
      "text/plain": [
       "<Figure size 432x288 with 1 Axes>"
      ]
     },
     "metadata": {
      "needs_background": "light"
     },
     "output_type": "display_data"
    }
   ],
   "source": [
    "Site.plot()"
   ]
  },
  {
   "cell_type": "code",
   "execution_count": 73,
   "metadata": {},
   "outputs": [
    {
     "data": {
      "text/html": [
       "<div>\n",
       "<style scoped>\n",
       "    .dataframe tbody tr th:only-of-type {\n",
       "        vertical-align: middle;\n",
       "    }\n",
       "\n",
       "    .dataframe tbody tr th {\n",
       "        vertical-align: top;\n",
       "    }\n",
       "\n",
       "    .dataframe thead th {\n",
       "        text-align: right;\n",
       "    }\n",
       "</style>\n",
       "<table border=\"1\" class=\"dataframe\">\n",
       "  <thead>\n",
       "    <tr style=\"text-align: right;\">\n",
       "      <th></th>\n",
       "      <th>id</th>\n",
       "      <th>dimension</th>\n",
       "      <th>hyd_ft</th>\n",
       "    </tr>\n",
       "  </thead>\n",
       "  <tbody>\n",
       "    <tr>\n",
       "      <th>0</th>\n",
       "      <td>1</td>\n",
       "      <td>5.0</td>\n",
       "      <td>3</td>\n",
       "    </tr>\n",
       "    <tr>\n",
       "      <th>1</th>\n",
       "      <td>2</td>\n",
       "      <td>7.0</td>\n",
       "      <td>7</td>\n",
       "    </tr>\n",
       "    <tr>\n",
       "      <th>2</th>\n",
       "      <td>3</td>\n",
       "      <td>3.0</td>\n",
       "      <td>7</td>\n",
       "    </tr>\n",
       "    <tr>\n",
       "      <th>3</th>\n",
       "      <td>7</td>\n",
       "      <td>4.0</td>\n",
       "      <td>2</td>\n",
       "    </tr>\n",
       "  </tbody>\n",
       "</table>\n",
       "</div>"
      ],
      "text/plain": [
       "   id  dimension  hyd_ft\n",
       "0   1        5.0       3\n",
       "1   2        7.0       7\n",
       "2   3        3.0       7\n",
       "3   7        4.0       2"
      ]
     },
     "execution_count": 73,
     "metadata": {},
     "output_type": "execute_result"
    }
   ],
   "source": [
    "Site.site_all[0].return_df()"
   ]
  },
  {
   "cell_type": "code",
   "execution_count": null,
   "metadata": {},
   "outputs": [],
   "source": []
  }
 ],
 "metadata": {
  "interpreter": {
   "hash": "671b176f63b982f20843a390fd86181284f7b0e56a1d5f031198afba6e5e5698"
  },
  "kernelspec": {
   "display_name": "Python 3.9.12 ('MAD-lab')",
   "language": "python",
   "name": "python3"
  },
  "language_info": {
   "codemirror_mode": {
    "name": "ipython",
    "version": 3
   },
   "file_extension": ".py",
   "mimetype": "text/x-python",
   "name": "python",
   "nbconvert_exporter": "python",
   "pygments_lexer": "ipython3",
   "version": "3.9.12"
  },
  "orig_nbformat": 4
 },
 "nbformat": 4,
 "nbformat_minor": 2
}
